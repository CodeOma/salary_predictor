{
  "nbformat": 4,
  "nbformat_minor": 0,
  "metadata": {
    "colab": {
      "name": "CAPSTONE",
      "provenance": [],
      "collapsed_sections": []
    },
    "kernelspec": {
      "name": "python3",
      "display_name": "Python 3"
    },
    "language_info": {
      "name": "python"
    }
  },
  "cells": [
    {
      "cell_type": "code",
      "source": [
        "import pandas as pd\n",
        "import matplotlib.pyplot as plt\n",
        "\n",
        "df = pd.read_csv(\"survey_results_public.csv\")\n",
        "df.head()"
      ],
      "metadata": {
        "id": "QeNltgK6ZFig",
        "colab": {
          "base_uri": "https://localhost:8080/",
          "height": 750
        },
        "outputId": "538323b9-1aaa-4a5f-f416-16cce1d05acc"
      },
      "execution_count": 1594,
      "outputs": [
        {
          "output_type": "execute_result",
          "data": {
            "text/plain": [
              "   ResponseId                                         MainBranch  \\\n",
              "0           1                     I am a developer by profession   \n",
              "1           2             I am a student who is learning to code   \n",
              "2           3  I am not primarily a developer, but I write co...   \n",
              "3           4                     I am a developer by profession   \n",
              "4           5                     I am a developer by profession   \n",
              "\n",
              "                                          Employment  \\\n",
              "0  Independent contractor, freelancer, or self-em...   \n",
              "1                                 Student, full-time   \n",
              "2                                 Student, full-time   \n",
              "3                                 Employed full-time   \n",
              "4  Independent contractor, freelancer, or self-em...   \n",
              "\n",
              "                                             Country US_State UK_Country  \\\n",
              "0                                           Slovakia      NaN        NaN   \n",
              "1                                        Netherlands      NaN        NaN   \n",
              "2                                 Russian Federation      NaN        NaN   \n",
              "3                                            Austria      NaN        NaN   \n",
              "4  United Kingdom of Great Britain and Northern I...      NaN    England   \n",
              "\n",
              "                                             EdLevel     Age1stCode  \\\n",
              "0  Secondary school (e.g. American high school, G...  18 - 24 years   \n",
              "1       Bachelor’s degree (B.A., B.S., B.Eng., etc.)  11 - 17 years   \n",
              "2       Bachelor’s degree (B.A., B.S., B.Eng., etc.)  11 - 17 years   \n",
              "3    Master’s degree (M.A., M.S., M.Eng., MBA, etc.)  11 - 17 years   \n",
              "4    Master’s degree (M.A., M.S., M.Eng., MBA, etc.)   5 - 10 years   \n",
              "\n",
              "                                           LearnCode YearsCode  ...  \\\n",
              "0  Coding Bootcamp;Other online resources (ex: vi...       NaN  ...   \n",
              "1  Other online resources (ex: videos, blogs, etc...         7  ...   \n",
              "2  Other online resources (ex: videos, blogs, etc...       NaN  ...   \n",
              "3                                                NaN       NaN  ...   \n",
              "4                            Friend or family member        17  ...   \n",
              "\n",
              "               Age Gender Trans                Sexuality  \\\n",
              "0  25-34 years old    Man    No  Straight / Heterosexual   \n",
              "1  18-24 years old    Man    No  Straight / Heterosexual   \n",
              "2  18-24 years old    Man    No        Prefer not to say   \n",
              "3  35-44 years old    Man    No  Straight / Heterosexual   \n",
              "4  25-34 years old    Man    No                      NaN   \n",
              "\n",
              "                      Ethnicity                Accessibility  \\\n",
              "0  White or of European descent            None of the above   \n",
              "1  White or of European descent            None of the above   \n",
              "2             Prefer not to say            None of the above   \n",
              "3  White or of European descent  I am deaf / hard of hearing   \n",
              "4  White or of European descent            None of the above   \n",
              "\n",
              "        MentalHealth           SurveyLength                  SurveyEase  \\\n",
              "0  None of the above  Appropriate in length                        Easy   \n",
              "1  None of the above  Appropriate in length                        Easy   \n",
              "2  None of the above  Appropriate in length                        Easy   \n",
              "3                NaN  Appropriate in length  Neither easy nor difficult   \n",
              "4                NaN  Appropriate in length                        Easy   \n",
              "\n",
              "  ConvertedCompYearly  \n",
              "0             62268.0  \n",
              "1                 NaN  \n",
              "2                 NaN  \n",
              "3                 NaN  \n",
              "4                 NaN  \n",
              "\n",
              "[5 rows x 48 columns]"
            ],
            "text/html": [
              "\n",
              "  <div id=\"df-a86b3ea6-59a2-47d6-bfc3-6e2b8532bffb\">\n",
              "    <div class=\"colab-df-container\">\n",
              "      <div>\n",
              "<style scoped>\n",
              "    .dataframe tbody tr th:only-of-type {\n",
              "        vertical-align: middle;\n",
              "    }\n",
              "\n",
              "    .dataframe tbody tr th {\n",
              "        vertical-align: top;\n",
              "    }\n",
              "\n",
              "    .dataframe thead th {\n",
              "        text-align: right;\n",
              "    }\n",
              "</style>\n",
              "<table border=\"1\" class=\"dataframe\">\n",
              "  <thead>\n",
              "    <tr style=\"text-align: right;\">\n",
              "      <th></th>\n",
              "      <th>ResponseId</th>\n",
              "      <th>MainBranch</th>\n",
              "      <th>Employment</th>\n",
              "      <th>Country</th>\n",
              "      <th>US_State</th>\n",
              "      <th>UK_Country</th>\n",
              "      <th>EdLevel</th>\n",
              "      <th>Age1stCode</th>\n",
              "      <th>LearnCode</th>\n",
              "      <th>YearsCode</th>\n",
              "      <th>...</th>\n",
              "      <th>Age</th>\n",
              "      <th>Gender</th>\n",
              "      <th>Trans</th>\n",
              "      <th>Sexuality</th>\n",
              "      <th>Ethnicity</th>\n",
              "      <th>Accessibility</th>\n",
              "      <th>MentalHealth</th>\n",
              "      <th>SurveyLength</th>\n",
              "      <th>SurveyEase</th>\n",
              "      <th>ConvertedCompYearly</th>\n",
              "    </tr>\n",
              "  </thead>\n",
              "  <tbody>\n",
              "    <tr>\n",
              "      <th>0</th>\n",
              "      <td>1</td>\n",
              "      <td>I am a developer by profession</td>\n",
              "      <td>Independent contractor, freelancer, or self-em...</td>\n",
              "      <td>Slovakia</td>\n",
              "      <td>NaN</td>\n",
              "      <td>NaN</td>\n",
              "      <td>Secondary school (e.g. American high school, G...</td>\n",
              "      <td>18 - 24 years</td>\n",
              "      <td>Coding Bootcamp;Other online resources (ex: vi...</td>\n",
              "      <td>NaN</td>\n",
              "      <td>...</td>\n",
              "      <td>25-34 years old</td>\n",
              "      <td>Man</td>\n",
              "      <td>No</td>\n",
              "      <td>Straight / Heterosexual</td>\n",
              "      <td>White or of European descent</td>\n",
              "      <td>None of the above</td>\n",
              "      <td>None of the above</td>\n",
              "      <td>Appropriate in length</td>\n",
              "      <td>Easy</td>\n",
              "      <td>62268.0</td>\n",
              "    </tr>\n",
              "    <tr>\n",
              "      <th>1</th>\n",
              "      <td>2</td>\n",
              "      <td>I am a student who is learning to code</td>\n",
              "      <td>Student, full-time</td>\n",
              "      <td>Netherlands</td>\n",
              "      <td>NaN</td>\n",
              "      <td>NaN</td>\n",
              "      <td>Bachelor’s degree (B.A., B.S., B.Eng., etc.)</td>\n",
              "      <td>11 - 17 years</td>\n",
              "      <td>Other online resources (ex: videos, blogs, etc...</td>\n",
              "      <td>7</td>\n",
              "      <td>...</td>\n",
              "      <td>18-24 years old</td>\n",
              "      <td>Man</td>\n",
              "      <td>No</td>\n",
              "      <td>Straight / Heterosexual</td>\n",
              "      <td>White or of European descent</td>\n",
              "      <td>None of the above</td>\n",
              "      <td>None of the above</td>\n",
              "      <td>Appropriate in length</td>\n",
              "      <td>Easy</td>\n",
              "      <td>NaN</td>\n",
              "    </tr>\n",
              "    <tr>\n",
              "      <th>2</th>\n",
              "      <td>3</td>\n",
              "      <td>I am not primarily a developer, but I write co...</td>\n",
              "      <td>Student, full-time</td>\n",
              "      <td>Russian Federation</td>\n",
              "      <td>NaN</td>\n",
              "      <td>NaN</td>\n",
              "      <td>Bachelor’s degree (B.A., B.S., B.Eng., etc.)</td>\n",
              "      <td>11 - 17 years</td>\n",
              "      <td>Other online resources (ex: videos, blogs, etc...</td>\n",
              "      <td>NaN</td>\n",
              "      <td>...</td>\n",
              "      <td>18-24 years old</td>\n",
              "      <td>Man</td>\n",
              "      <td>No</td>\n",
              "      <td>Prefer not to say</td>\n",
              "      <td>Prefer not to say</td>\n",
              "      <td>None of the above</td>\n",
              "      <td>None of the above</td>\n",
              "      <td>Appropriate in length</td>\n",
              "      <td>Easy</td>\n",
              "      <td>NaN</td>\n",
              "    </tr>\n",
              "    <tr>\n",
              "      <th>3</th>\n",
              "      <td>4</td>\n",
              "      <td>I am a developer by profession</td>\n",
              "      <td>Employed full-time</td>\n",
              "      <td>Austria</td>\n",
              "      <td>NaN</td>\n",
              "      <td>NaN</td>\n",
              "      <td>Master’s degree (M.A., M.S., M.Eng., MBA, etc.)</td>\n",
              "      <td>11 - 17 years</td>\n",
              "      <td>NaN</td>\n",
              "      <td>NaN</td>\n",
              "      <td>...</td>\n",
              "      <td>35-44 years old</td>\n",
              "      <td>Man</td>\n",
              "      <td>No</td>\n",
              "      <td>Straight / Heterosexual</td>\n",
              "      <td>White or of European descent</td>\n",
              "      <td>I am deaf / hard of hearing</td>\n",
              "      <td>NaN</td>\n",
              "      <td>Appropriate in length</td>\n",
              "      <td>Neither easy nor difficult</td>\n",
              "      <td>NaN</td>\n",
              "    </tr>\n",
              "    <tr>\n",
              "      <th>4</th>\n",
              "      <td>5</td>\n",
              "      <td>I am a developer by profession</td>\n",
              "      <td>Independent contractor, freelancer, or self-em...</td>\n",
              "      <td>United Kingdom of Great Britain and Northern I...</td>\n",
              "      <td>NaN</td>\n",
              "      <td>England</td>\n",
              "      <td>Master’s degree (M.A., M.S., M.Eng., MBA, etc.)</td>\n",
              "      <td>5 - 10 years</td>\n",
              "      <td>Friend or family member</td>\n",
              "      <td>17</td>\n",
              "      <td>...</td>\n",
              "      <td>25-34 years old</td>\n",
              "      <td>Man</td>\n",
              "      <td>No</td>\n",
              "      <td>NaN</td>\n",
              "      <td>White or of European descent</td>\n",
              "      <td>None of the above</td>\n",
              "      <td>NaN</td>\n",
              "      <td>Appropriate in length</td>\n",
              "      <td>Easy</td>\n",
              "      <td>NaN</td>\n",
              "    </tr>\n",
              "  </tbody>\n",
              "</table>\n",
              "<p>5 rows × 48 columns</p>\n",
              "</div>\n",
              "      <button class=\"colab-df-convert\" onclick=\"convertToInteractive('df-a86b3ea6-59a2-47d6-bfc3-6e2b8532bffb')\"\n",
              "              title=\"Convert this dataframe to an interactive table.\"\n",
              "              style=\"display:none;\">\n",
              "        \n",
              "  <svg xmlns=\"http://www.w3.org/2000/svg\" height=\"24px\"viewBox=\"0 0 24 24\"\n",
              "       width=\"24px\">\n",
              "    <path d=\"M0 0h24v24H0V0z\" fill=\"none\"/>\n",
              "    <path d=\"M18.56 5.44l.94 2.06.94-2.06 2.06-.94-2.06-.94-.94-2.06-.94 2.06-2.06.94zm-11 1L8.5 8.5l.94-2.06 2.06-.94-2.06-.94L8.5 2.5l-.94 2.06-2.06.94zm10 10l.94 2.06.94-2.06 2.06-.94-2.06-.94-.94-2.06-.94 2.06-2.06.94z\"/><path d=\"M17.41 7.96l-1.37-1.37c-.4-.4-.92-.59-1.43-.59-.52 0-1.04.2-1.43.59L10.3 9.45l-7.72 7.72c-.78.78-.78 2.05 0 2.83L4 21.41c.39.39.9.59 1.41.59.51 0 1.02-.2 1.41-.59l7.78-7.78 2.81-2.81c.8-.78.8-2.07 0-2.86zM5.41 20L4 18.59l7.72-7.72 1.47 1.35L5.41 20z\"/>\n",
              "  </svg>\n",
              "      </button>\n",
              "      \n",
              "  <style>\n",
              "    .colab-df-container {\n",
              "      display:flex;\n",
              "      flex-wrap:wrap;\n",
              "      gap: 12px;\n",
              "    }\n",
              "\n",
              "    .colab-df-convert {\n",
              "      background-color: #E8F0FE;\n",
              "      border: none;\n",
              "      border-radius: 50%;\n",
              "      cursor: pointer;\n",
              "      display: none;\n",
              "      fill: #1967D2;\n",
              "      height: 32px;\n",
              "      padding: 0 0 0 0;\n",
              "      width: 32px;\n",
              "    }\n",
              "\n",
              "    .colab-df-convert:hover {\n",
              "      background-color: #E2EBFA;\n",
              "      box-shadow: 0px 1px 2px rgba(60, 64, 67, 0.3), 0px 1px 3px 1px rgba(60, 64, 67, 0.15);\n",
              "      fill: #174EA6;\n",
              "    }\n",
              "\n",
              "    [theme=dark] .colab-df-convert {\n",
              "      background-color: #3B4455;\n",
              "      fill: #D2E3FC;\n",
              "    }\n",
              "\n",
              "    [theme=dark] .colab-df-convert:hover {\n",
              "      background-color: #434B5C;\n",
              "      box-shadow: 0px 1px 3px 1px rgba(0, 0, 0, 0.15);\n",
              "      filter: drop-shadow(0px 1px 2px rgba(0, 0, 0, 0.3));\n",
              "      fill: #FFFFFF;\n",
              "    }\n",
              "  </style>\n",
              "\n",
              "      <script>\n",
              "        const buttonEl =\n",
              "          document.querySelector('#df-a86b3ea6-59a2-47d6-bfc3-6e2b8532bffb button.colab-df-convert');\n",
              "        buttonEl.style.display =\n",
              "          google.colab.kernel.accessAllowed ? 'block' : 'none';\n",
              "\n",
              "        async function convertToInteractive(key) {\n",
              "          const element = document.querySelector('#df-a86b3ea6-59a2-47d6-bfc3-6e2b8532bffb');\n",
              "          const dataTable =\n",
              "            await google.colab.kernel.invokeFunction('convertToInteractive',\n",
              "                                                     [key], {});\n",
              "          if (!dataTable) return;\n",
              "\n",
              "          const docLinkHtml = 'Like what you see? Visit the ' +\n",
              "            '<a target=\"_blank\" href=https://colab.research.google.com/notebooks/data_table.ipynb>data table notebook</a>'\n",
              "            + ' to learn more about interactive tables.';\n",
              "          element.innerHTML = '';\n",
              "          dataTable['output_type'] = 'display_data';\n",
              "          await google.colab.output.renderOutput(dataTable, element);\n",
              "          const docLink = document.createElement('div');\n",
              "          docLink.innerHTML = docLinkHtml;\n",
              "          element.appendChild(docLink);\n",
              "        }\n",
              "      </script>\n",
              "    </div>\n",
              "  </div>\n",
              "  "
            ]
          },
          "metadata": {},
          "execution_count": 1594
        }
      ]
    },
    {
      "cell_type": "code",
      "source": [
        "df = df[[\"Country\", \"EdLevel\", \"YearsCodePro\",\"Employment\", \"ConvertedCompYearly\", \"Age\"]]\n",
        "\n",
        "df = df.rename({\"ConvertedCompYearly\":\"Salary\"},axis=1)\n",
        "df = df.rename({\"EdLevel\":\"Education\"},axis=1)\n",
        "df = df.rename({\"YearsCodePro\":\"Experience\"},axis=1)"
      ],
      "metadata": {
        "id": "v8r-Q81gZdtE"
      },
      "execution_count": 1595,
      "outputs": []
    },
    {
      "cell_type": "code",
      "source": [
        "df.info()"
      ],
      "metadata": {
        "colab": {
          "base_uri": "https://localhost:8080/"
        },
        "id": "Q-NwGKtLZ9zA",
        "outputId": "1cc88201-5555-404c-dd8d-e20673a14ec3"
      },
      "execution_count": 1596,
      "outputs": [
        {
          "output_type": "stream",
          "name": "stdout",
          "text": [
            "<class 'pandas.core.frame.DataFrame'>\n",
            "RangeIndex: 83439 entries, 0 to 83438\n",
            "Data columns (total 6 columns):\n",
            " #   Column      Non-Null Count  Dtype  \n",
            "---  ------      --------------  -----  \n",
            " 0   Country     83439 non-null  object \n",
            " 1   Education   83126 non-null  object \n",
            " 2   Experience  61216 non-null  object \n",
            " 3   Employment  83323 non-null  object \n",
            " 4   Salary      46844 non-null  float64\n",
            " 5   Age         82407 non-null  object \n",
            "dtypes: float64(1), object(5)\n",
            "memory usage: 3.8+ MB\n"
          ]
        }
      ]
    },
    {
      "cell_type": "code",
      "source": [
        "df = df.dropna()\n",
        "df.isnull().sum()"
      ],
      "metadata": {
        "colab": {
          "base_uri": "https://localhost:8080/"
        },
        "id": "he7VamgGaBrZ",
        "outputId": "c83d0295-8771-47d4-9eef-eb6634706d44"
      },
      "execution_count": 1597,
      "outputs": [
        {
          "output_type": "execute_result",
          "data": {
            "text/plain": [
              "Country       0\n",
              "Education     0\n",
              "Experience    0\n",
              "Employment    0\n",
              "Salary        0\n",
              "Age           0\n",
              "dtype: int64"
            ]
          },
          "metadata": {},
          "execution_count": 1597
        }
      ]
    },
    {
      "cell_type": "code",
      "source": [
        "import seaborn as sns\n",
        "sns.pairplot(df)"
      ],
      "metadata": {
        "colab": {
          "base_uri": "https://localhost:8080/",
          "height": 215
        },
        "id": "xUq6cuqu4A1a",
        "outputId": "0ea9d39e-f0c7-4729-f543-a99ccada5f6f"
      },
      "execution_count": 1598,
      "outputs": [
        {
          "output_type": "execute_result",
          "data": {
            "text/plain": [
              "<seaborn.axisgrid.PairGrid at 0x7fd373eb5790>"
            ]
          },
          "metadata": {},
          "execution_count": 1598
        },
        {
          "output_type": "display_data",
          "data": {
            "text/plain": [
              "<Figure size 180x180 with 2 Axes>"
            ],
            "image/png": "[encoded data removed]"
          },
          "metadata": {
            "needs_background": "light"
          }
        }
      ]
    },
    {
      "cell_type": "code",
      "source": [
        "df = df[df[\"Employment\"]==\"Employed full-time\"]\n",
        "df = df.drop(\"Employment\",axis=1)\n",
        "df.info()"
      ],
      "metadata": {
        "colab": {
          "base_uri": "https://localhost:8080/"
        },
        "id": "wOYVUHOxaHQj",
        "outputId": "37dc7ed1-9ad1-4fd5-c02e-cea735d8adf0"
      },
      "execution_count": 1599,
      "outputs": [
        {
          "output_type": "stream",
          "name": "stdout",
          "text": [
            "<class 'pandas.core.frame.DataFrame'>\n",
            "Int64Index: 40133 entries, 9 to 83438\n",
            "Data columns (total 5 columns):\n",
            " #   Column      Non-Null Count  Dtype  \n",
            "---  ------      --------------  -----  \n",
            " 0   Country     40133 non-null  object \n",
            " 1   Education   40133 non-null  object \n",
            " 2   Experience  40133 non-null  object \n",
            " 3   Salary      40133 non-null  float64\n",
            " 4   Age         40133 non-null  object \n",
            "dtypes: float64(1), object(4)\n",
            "memory usage: 1.8+ MB\n"
          ]
        }
      ]
    },
    {
      "cell_type": "code",
      "source": [
        "df[\"Country\"].value_counts()"
      ],
      "metadata": {
        "colab": {
          "base_uri": "https://localhost:8080/"
        },
        "id": "YFw0Txhead9L",
        "outputId": "963ea507-18a2-42be-fb82-87f7190205f2"
      },
      "execution_count": 1600,
      "outputs": [
        {
          "output_type": "execute_result",
          "data": {
            "text/plain": [
              "United States of America                                9146\n",
              "India                                                   3379\n",
              "Germany                                                 2751\n",
              "United Kingdom of Great Britain and Northern Ireland    2598\n",
              "Canada                                                  1548\n",
              "                                                        ... \n",
              "Dominica                                                   1\n",
              "Libyan Arab Jamahiriya                                     1\n",
              "Monaco                                                     1\n",
              "Somalia                                                    1\n",
              "Burundi                                                    1\n",
              "Name: Country, Length: 166, dtype: int64"
            ]
          },
          "metadata": {},
          "execution_count": 1600
        }
      ]
    },
    {
      "cell_type": "code",
      "source": [
        "def group_low_count(categories, cutoff):\n",
        "  category_map ={}\n",
        "  for i in range(len(categories)):\n",
        "    if categories.values[i] >= cutoff:\n",
        "      category_map[categories.index[i]] = categories.index[i]\n",
        "    else:\n",
        "      category_map[categories.index[i]] = \"Other\"\n",
        "  return category_map\n",
        "\n",
        "\n"
      ],
      "metadata": {
        "id": "3iRr6lL6amHo"
      },
      "execution_count": 1601,
      "outputs": []
    },
    {
      "cell_type": "code",
      "source": [
        "country_map = group_low_count(df.Country.value_counts(),1000)\n",
        "print(country_map)\n",
        "df[\"Country\"] = df[\"Country\"].map(country_map)\n",
        "df.Country.value_counts()\n"
      ],
      "metadata": {
        "colab": {
          "base_uri": "https://localhost:8080/"
        },
        "id": "j0Zvj3ngcHIW",
        "outputId": "b706210b-1da6-4702-da51-db7c52cf8964"
      },
      "execution_count": 1602,
      "outputs": [
        {
          "output_type": "stream",
          "name": "stdout",
          "text": [
            "{'United States of America': 'United States of America', 'India': 'India', 'Germany': 'Germany', 'United Kingdom of Great Britain and Northern Ireland': 'United Kingdom of Great Britain and Northern Ireland', 'Canada': 'Canada', 'France': 'France', 'Brazil': 'Brazil', 'Spain': 'Other', 'Netherlands': 'Other', 'Australia': 'Other', 'Poland': 'Other', 'Italy': 'Other', 'Russian Federation': 'Other', 'Sweden': 'Other', 'Turkey': 'Other', 'Switzerland': 'Other', 'Israel': 'Other', 'Norway': 'Other', 'Mexico': 'Other', 'Ukraine': 'Other', 'Iran, Islamic Republic of...': 'Other', 'Denmark': 'Other', 'Belgium': 'Other', 'Finland': 'Other', 'Austria': 'Other', 'Argentina': 'Other', 'South Africa': 'Other', 'Pakistan': 'Other', 'Czech Republic': 'Other', 'Portugal': 'Other', 'China': 'Other', 'New Zealand': 'Other', 'Romania': 'Other', 'Greece': 'Other', 'Japan': 'Other', 'Colombia': 'Other', 'Bulgaria': 'Other', 'Bangladesh': 'Other', 'Hungary': 'Other', 'Ireland': 'Other', 'Indonesia': 'Other', 'Egypt': 'Other', 'Taiwan': 'Other', 'Sri Lanka': 'Other', 'Philippines': 'Other', 'Serbia': 'Other', 'Malaysia': 'Other', 'Singapore': 'Other', 'Nigeria': 'Other', 'Viet Nam': 'Other', 'Chile': 'Other', 'Croatia': 'Other', 'Slovenia': 'Other', 'Lithuania': 'Other', 'Slovakia': 'Other', 'Hong Kong (S.A.R.)': 'Other', 'Nepal': 'Other', 'Belarus': 'Other', 'Uruguay': 'Other', 'Estonia': 'Other', 'Thailand': 'Other', 'Kenya': 'Other', 'United Arab Emirates': 'Other', 'Peru': 'Other', 'Georgia': 'Other', 'South Korea': 'Other', 'Dominican Republic': 'Other', 'Ecuador': 'Other', 'Latvia': 'Other', 'Bosnia and Herzegovina': 'Other', 'Tunisia': 'Other', 'Morocco': 'Other', 'Costa Rica': 'Other', 'Armenia': 'Other', 'Saudi Arabia': 'Other', 'Venezuela, Bolivarian Republic of...': 'Other', 'Guatemala': 'Other', 'Lebanon': 'Other', 'Kazakhstan': 'Other', 'Albania': 'Other', 'Paraguay': 'Other', 'The former Yugoslav Republic of Macedonia': 'Other', 'Cyprus': 'Other', 'Iceland': 'Other', 'Republic of Moldova': 'Other', 'Bolivia': 'Other', 'Uzbekistan': 'Other', 'Luxembourg': 'Other', 'Jordan': 'Other', 'Malta': 'Other', 'Republic of Korea': 'Other', 'Ghana': 'Other', 'Uganda': 'Other', 'Azerbaijan': 'Other', 'Cuba': 'Other', 'Ethiopia': 'Other', 'Kosovo': 'Other', 'United Republic of Tanzania': 'Other', 'El Salvador': 'Other', 'Panama': 'Other', 'Myanmar': 'Other', 'Iraq': 'Other', 'Syrian Arab Republic': 'Other', 'Nomadic': 'Other', 'Rwanda': 'Other', 'Honduras': 'Other', 'Kuwait': 'Other', 'Mauritius': 'Other', 'Montenegro': 'Other', 'Palestine': 'Other', 'Mongolia': 'Other', 'Nicaragua': 'Other', 'Zimbabwe': 'Other', 'Namibia': 'Other', 'Zambia': 'Other', 'Afghanistan': 'Other', 'Algeria': 'Other', 'Cambodia': 'Other', 'Kyrgyzstan': 'Other', 'Maldives': 'Other', \"Côte d'Ivoire\": 'Other', 'Madagascar': 'Other', 'Angola': 'Other', 'Sudan': 'Other', 'Bahrain': 'Other', 'Trinidad and Tobago': 'Other', 'Qatar': 'Other', 'Jamaica': 'Other', 'Cameroon': 'Other', 'Democratic Republic of the Congo': 'Other', 'Barbados': 'Other', 'Mozambique': 'Other', 'Oman': 'Other', 'Turkmenistan': 'Other', 'Senegal': 'Other', 'Swaziland': 'Other', 'Congo, Republic of the...': 'Other', 'Malawi': 'Other', 'Belize': 'Other', 'Tajikistan': 'Other', 'Yemen': 'Other', 'Isle of Man': 'Other', 'Botswana': 'Other', 'Niger': 'Other', 'Bhutan': 'Other', 'Andorra': 'Other', 'Haiti': 'Other', 'Suriname': 'Other', 'Benin': 'Other', 'Guyana': 'Other', 'San Marino': 'Other', 'Mauritania': 'Other', 'Gambia': 'Other', 'Cape Verde': 'Other', 'Lesotho': 'Other', \"Lao People's Democratic Republic\": 'Other', 'Saint Vincent and the Grenadines': 'Other', 'Saint Kitts and Nevis': 'Other', 'Guinea': 'Other', 'Djibouti': 'Other', 'Saint Lucia': 'Other', 'Dominica': 'Other', 'Libyan Arab Jamahiriya': 'Other', 'Monaco': 'Other', 'Somalia': 'Other', 'Burundi': 'Other'}\n"
          ]
        },
        {
          "output_type": "execute_result",
          "data": {
            "text/plain": [
              "Other                                                   17979\n",
              "United States of America                                 9146\n",
              "India                                                    3379\n",
              "Germany                                                  2751\n",
              "United Kingdom of Great Britain and Northern Ireland     2598\n",
              "Canada                                                   1548\n",
              "France                                                   1393\n",
              "Brazil                                                   1339\n",
              "Name: Country, dtype: int64"
            ]
          },
          "metadata": {},
          "execution_count": 1602
        }
      ]
    },
    {
      "cell_type": "code",
      "source": [
        "fg, ax = plt.subplots(1,1, figsize=(12,7))\n",
        "df.boxplot(\"Salary\", \"Country\", ax=ax)\n",
        "plt.suptitle(\"Salary (US$) v Country\")\n",
        "plt.title(\"\")\n",
        "plt.ylabel(\"Salary\")\n",
        "plt.xticks(rotation=90)\n",
        "plt.show()"
      ],
      "metadata": {
        "colab": {
          "base_uri": "https://localhost:8080/",
          "height": 794
        },
        "id": "QME2nzqucHEV",
        "outputId": "f2304598-11cd-4999-cb91-b4b04a499a8a"
      },
      "execution_count": 1603,
      "outputs": [
        {
          "output_type": "stream",
          "name": "stderr",
          "text": [
            "/usr/local/lib/python3.7/dist-packages/matplotlib/cbook/__init__.py:1376: VisibleDeprecationWarning: Creating an ndarray from ragged nested sequences (which is a list-or-tuple of lists-or-tuples-or ndarrays with different lengths or shapes) is deprecated. If you meant to do this, you must specify 'dtype=object' when creating the ndarray.\n",
            "  X = np.atleast_1d(X.T if isinstance(X, np.ndarray) else np.asarray(X))\n"
          ]
        },
        {
          "output_type": "display_data",
          "data": {
            "text/plain": [
              "<Figure size 864x504 with 1 Axes>"
            ],
            "image/png": "[encoded data removed]"
          },
          "metadata": {
            "needs_background": "light"
          }
        }
      ]
    },
    {
      "cell_type": "code",
      "source": [
        "df = df[df[\"Salary\"]<=130000]\n",
        "df = df[df[\"Salary\"]>=10000]\n",
        "df = df[df[\"Country\"] != 'Other']\n"
      ],
      "metadata": {
        "id": "neF0DOghcE95"
      },
      "execution_count": 1604,
      "outputs": []
    },
    {
      "cell_type": "code",
      "source": [
        ""
      ],
      "metadata": {
        "id": "ajGXWS20-TxY"
      },
      "execution_count": 1604,
      "outputs": []
    },
    {
      "cell_type": "code",
      "source": [
        "import seaborn as sns\n",
        "sns.pairplot(df)"
      ],
      "metadata": {
        "colab": {
          "base_uri": "https://localhost:8080/",
          "height": 744
        },
        "id": "pVJk2n3X5C9v",
        "outputId": "078541fb-889d-4cba-fad9-4c84c590c978"
      },
      "execution_count": 1641,
      "outputs": [
        {
          "output_type": "execute_result",
          "data": {
            "text/plain": [
              "<seaborn.axisgrid.PairGrid at 0x7fd36a488190>"
            ]
          },
          "metadata": {},
          "execution_count": 1641
        },
        {
          "output_type": "display_data",
          "data": {
            "text/plain": [
              "<Figure size 720x720 with 20 Axes>"
            ],
            "image/png": "[encoded data removed]"
          },
          "metadata": {
            "needs_background": "light"
          }
        }
      ]
    },
    {
      "cell_type": "code",
      "source": [
        "fg, ax = plt.subplots(1,1, figsize=(12,7))\n",
        "df.boxplot(\"Salary\", \"Country\", ax=ax)\n",
        "plt.suptitle(\"Salary (US$) v Country\")\n",
        "plt.title(\"\")\n",
        "plt.ylabel(\"Salary\")\n",
        "plt.xticks(rotation=90)\n",
        "plt.show()"
      ],
      "metadata": {
        "colab": {
          "base_uri": "https://localhost:8080/",
          "height": 794
        },
        "id": "IDNlHT0vcCSv",
        "outputId": "70139b9f-df9a-40ac-cc10-04ae7277ada2"
      },
      "execution_count": 1606,
      "outputs": [
        {
          "output_type": "stream",
          "name": "stderr",
          "text": [
            "/usr/local/lib/python3.7/dist-packages/matplotlib/cbook/__init__.py:1376: VisibleDeprecationWarning: Creating an ndarray from ragged nested sequences (which is a list-or-tuple of lists-or-tuples-or ndarrays with different lengths or shapes) is deprecated. If you meant to do this, you must specify 'dtype=object' when creating the ndarray.\n",
            "  X = np.atleast_1d(X.T if isinstance(X, np.ndarray) else np.asarray(X))\n"
          ]
        },
        {
          "output_type": "display_data",
          "data": {
            "text/plain": [
              "<Figure size 864x504 with 1 Axes>"
            ],
            "image/png": "[encoded data removed]"
          },
          "metadata": {
            "needs_background": "light"
          }
        }
      ]
    },
    {
      "cell_type": "code",
      "source": [
        "df[\"Experience\"].unique()"
      ],
      "metadata": {
        "colab": {
          "base_uri": "https://localhost:8080/"
        },
        "id": "3hA0Y_sIdiy7",
        "outputId": "86dee51a-73bd-4ab8-f9df-6ea7dce49e7d"
      },
      "execution_count": 1607,
      "outputs": [
        {
          "output_type": "execute_result",
          "data": {
            "text/plain": [
              "array(['6', '2', '18', '21', '10', 'Less than 1 year', '3', '15', '12',\n",
              "       '5', '17', '1', '14', '11', '25', '4', '24', '22', '13', '9', '7',\n",
              "       '8', '16', '39', '20', '27', '19', '35', '23', '43', '29', '31',\n",
              "       '42', '34', '46', '33', '40', '37', '28', '30', '32', '26', '47',\n",
              "       '44', '41', '45', 'More than 50 years', '38', '36', '50', '49',\n",
              "       '48'], dtype=object)"
            ]
          },
          "metadata": {},
          "execution_count": 1607
        }
      ]
    },
    {
      "cell_type": "code",
      "source": [
        "def prep_salary(x):\n",
        " \n",
        "  if x <30000:\n",
        "    return 30000\n",
        "  return x\n",
        "\n",
        "\n",
        "df[\"Salary\"] = df[\"Salary\"].apply(prep_salary)"
      ],
      "metadata": {
        "id": "Pn_57jrNVjWa"
      },
      "execution_count": 1608,
      "outputs": []
    },
    {
      "cell_type": "code",
      "source": [
        "def prep_experience(x):\n",
        "  if x == \"More than 50 years\":\n",
        "    return 10\n",
        "  if x == 'Less than 1 year':\n",
        "    return 0.5\n",
        "  if int(x) >= 10:\n",
        "    return 10\n",
        "  return float(x)\n",
        "\n",
        "\n",
        "df[\"Experience\"] = df[\"Experience\"].apply(prep_experience)"
      ],
      "metadata": {
        "id": "YUu85UgSdirz"
      },
      "execution_count": 1609,
      "outputs": []
    },
    {
      "cell_type": "code",
      "source": [
        "# df = df[df[\"Experience\"] <=10]"
      ],
      "metadata": {
        "id": "QF6u7FTjDfPH"
      },
      "execution_count": 1610,
      "outputs": []
    },
    {
      "cell_type": "code",
      "source": [
        "df[\"Education\"].unique()"
      ],
      "metadata": {
        "colab": {
          "base_uri": "https://localhost:8080/"
        },
        "id": "c0CXLMdWdipi",
        "outputId": "cbe429d8-bd0f-493a-c16a-56f6767c32cb"
      },
      "execution_count": 1611,
      "outputs": [
        {
          "output_type": "execute_result",
          "data": {
            "text/plain": [
              "array(['Master’s degree (M.A., M.S., M.Eng., MBA, etc.)',\n",
              "       'Bachelor’s degree (B.A., B.S., B.Eng., etc.)',\n",
              "       'Some college/university study without earning a degree',\n",
              "       'Something else', 'Other doctoral degree (Ph.D., Ed.D., etc.)',\n",
              "       'Associate degree (A.A., A.S., etc.)',\n",
              "       'Secondary school (e.g. American high school, German Realschule or Gymnasium, etc.)',\n",
              "       'Primary/elementary school', 'Professional degree (JD, MD, etc.)'],\n",
              "      dtype=object)"
            ]
          },
          "metadata": {},
          "execution_count": 1611
        }
      ]
    },
    {
      "cell_type": "code",
      "source": [
        "def clean_education(x):\n",
        "  if \"Bachelor’s degree\" in x:\n",
        "    return \"Bachelor’s degree\"\n",
        "  if \"Master’s degree\" in x or \"Professional degree\" in x or \"Other doctoral\" in x:\n",
        "    return \"Master’s degree\"\n",
        "  return \"Less than Bachelors\"\n",
        "\n",
        "\n",
        "df[\"Education\"] = df[\"Education\"].apply(clean_education)"
      ],
      "metadata": {
        "id": "ebUdl9G9diiO"
      },
      "execution_count": 1612,
      "outputs": []
    },
    {
      "cell_type": "code",
      "source": [
        "df['Education'].unique()"
      ],
      "metadata": {
        "colab": {
          "base_uri": "https://localhost:8080/"
        },
        "id": "kwgo1L7udibJ",
        "outputId": "2a988821-d9bb-41d2-b082-b42b783f42a7"
      },
      "execution_count": 1613,
      "outputs": [
        {
          "output_type": "execute_result",
          "data": {
            "text/plain": [
              "array(['Master’s degree', 'Bachelor’s degree', 'Less than Bachelors'],\n",
              "      dtype=object)"
            ]
          },
          "metadata": {},
          "execution_count": 1613
        }
      ]
    },
    {
      "cell_type": "code",
      "source": [
        "# df[\"Age\"].value_counts()"
      ],
      "metadata": {
        "id": "_XMVjHQ1XZiW"
      },
      "execution_count": 1614,
      "outputs": []
    },
    {
      "cell_type": "code",
      "source": [
        "df = df[df[\"Age\"] != 'Prefer not to say']\n",
        "df = df[df[\"Age\"] != 'Under 18 years old']\n",
        "df = df[df[\"Age\"] != '65 years or older']\n",
        "df[\"Age\"].value_counts()"
      ],
      "metadata": {
        "colab": {
          "base_uri": "https://localhost:8080/"
        },
        "id": "XZvy9vXKYilZ",
        "outputId": "d8ee2324-3722-4d4d-e5fe-16fa3277c3cf"
      },
      "execution_count": 1615,
      "outputs": [
        {
          "output_type": "execute_result",
          "data": {
            "text/plain": [
              "25-34 years old    8302\n",
              "35-44 years old    3429\n",
              "18-24 years old    2343\n",
              "45-54 years old    1062\n",
              "55-64 years old     356\n",
              "Name: Age, dtype: int64"
            ]
          },
          "metadata": {},
          "execution_count": 1615
        }
      ]
    },
    {
      "cell_type": "code",
      "source": [
        "df = df[[\"Country\", \"Education\", \"Experience\", \"Salary\"]]\n",
        "\n",
        "\n",
        "from sklearn.preprocessing import LabelEncoder\n",
        "le_education = LabelEncoder()\n",
        "df['Education'] = le_education.fit_transform(df['Education'])\n",
        "df[\"Education\"].unique()  "
      ],
      "metadata": {
        "colab": {
          "base_uri": "https://localhost:8080/"
        },
        "id": "xtzsXtKEdiRo",
        "outputId": "17e24af2-dd8d-4900-8a5f-139331e40383"
      },
      "execution_count": 1616,
      "outputs": [
        {
          "output_type": "execute_result",
          "data": {
            "text/plain": [
              "array([2, 0, 1])"
            ]
          },
          "metadata": {},
          "execution_count": 1616
        }
      ]
    },
    {
      "cell_type": "code",
      "source": [
        "le_country = LabelEncoder()\n",
        "df[\"Country\"] = le_country.fit_transform(df['Country'])\n",
        "df[\"Country\"].unique()"
      ],
      "metadata": {
        "colab": {
          "base_uri": "https://localhost:8080/"
        },
        "id": "ZOT9PD6HdiIf",
        "outputId": "fc039695-e2c5-4fb6-8f00-d70cdcbab9fd"
      },
      "execution_count": 1617,
      "outputs": [
        {
          "output_type": "execute_result",
          "data": {
            "text/plain": [
              "array([3, 1, 2, 5, 6, 0, 4])"
            ]
          },
          "metadata": {},
          "execution_count": 1617
        }
      ]
    },
    {
      "cell_type": "code",
      "source": [
        "# from sklearn.compose import ColumnTransformer \n",
        "# from sklearn.preprocessing import  MinMaxScaler\n",
        "\n",
        "# scaler = MinMaxScaler()\n",
        "# X = scaler.fit(df[['Salary']])\n",
        "# df[\"Salary\"] = scaler.fit_transform(df[['Salary']])"
      ],
      "metadata": {
        "id": "3oClyvXnzXeI"
      },
      "execution_count": 1618,
      "outputs": []
    },
    {
      "cell_type": "code",
      "source": [
        "df.head()"
      ],
      "metadata": {
        "colab": {
          "base_uri": "https://localhost:8080/",
          "height": 206
        },
        "id": "B96wJcVccjeo",
        "outputId": "9a158954-f41a-4a08-f094-d84aba3f08ed"
      },
      "execution_count": 1619,
      "outputs": [
        {
          "output_type": "execute_result",
          "data": {
            "text/plain": [
              "    Country  Education  Experience   Salary\n",
              "12        3          2         6.0  77290.0\n",
              "17        1          0         6.0  46135.0\n",
              "23        2          2         2.0  38915.0\n",
              "24        3          2        10.0  77831.0\n",
              "27        5          0        10.0  68507.0"
            ],
            "text/html": [
              "\n",
              "  <div id=\"df-8d9462bb-1ef9-416f-8667-8a98b6e51c33\">\n",
              "    <div class=\"colab-df-container\">\n",
              "      <div>\n",
              "<style scoped>\n",
              "    .dataframe tbody tr th:only-of-type {\n",
              "        vertical-align: middle;\n",
              "    }\n",
              "\n",
              "    .dataframe tbody tr th {\n",
              "        vertical-align: top;\n",
              "    }\n",
              "\n",
              "    .dataframe thead th {\n",
              "        text-align: right;\n",
              "    }\n",
              "</style>\n",
              "<table border=\"1\" class=\"dataframe\">\n",
              "  <thead>\n",
              "    <tr style=\"text-align: right;\">\n",
              "      <th></th>\n",
              "      <th>Country</th>\n",
              "      <th>Education</th>\n",
              "      <th>Experience</th>\n",
              "      <th>Salary</th>\n",
              "    </tr>\n",
              "  </thead>\n",
              "  <tbody>\n",
              "    <tr>\n",
              "      <th>12</th>\n",
              "      <td>3</td>\n",
              "      <td>2</td>\n",
              "      <td>6.0</td>\n",
              "      <td>77290.0</td>\n",
              "    </tr>\n",
              "    <tr>\n",
              "      <th>17</th>\n",
              "      <td>1</td>\n",
              "      <td>0</td>\n",
              "      <td>6.0</td>\n",
              "      <td>46135.0</td>\n",
              "    </tr>\n",
              "    <tr>\n",
              "      <th>23</th>\n",
              "      <td>2</td>\n",
              "      <td>2</td>\n",
              "      <td>2.0</td>\n",
              "      <td>38915.0</td>\n",
              "    </tr>\n",
              "    <tr>\n",
              "      <th>24</th>\n",
              "      <td>3</td>\n",
              "      <td>2</td>\n",
              "      <td>10.0</td>\n",
              "      <td>77831.0</td>\n",
              "    </tr>\n",
              "    <tr>\n",
              "      <th>27</th>\n",
              "      <td>5</td>\n",
              "      <td>0</td>\n",
              "      <td>10.0</td>\n",
              "      <td>68507.0</td>\n",
              "    </tr>\n",
              "  </tbody>\n",
              "</table>\n",
              "</div>\n",
              "      <button class=\"colab-df-convert\" onclick=\"convertToInteractive('df-8d9462bb-1ef9-416f-8667-8a98b6e51c33')\"\n",
              "              title=\"Convert this dataframe to an interactive table.\"\n",
              "              style=\"display:none;\">\n",
              "        \n",
              "  <svg xmlns=\"http://www.w3.org/2000/svg\" height=\"24px\"viewBox=\"0 0 24 24\"\n",
              "       width=\"24px\">\n",
              "    <path d=\"M0 0h24v24H0V0z\" fill=\"none\"/>\n",
              "    <path d=\"M18.56 5.44l.94 2.06.94-2.06 2.06-.94-2.06-.94-.94-2.06-.94 2.06-2.06.94zm-11 1L8.5 8.5l.94-2.06 2.06-.94-2.06-.94L8.5 2.5l-.94 2.06-2.06.94zm10 10l.94 2.06.94-2.06 2.06-.94-2.06-.94-.94-2.06-.94 2.06-2.06.94z\"/><path d=\"M17.41 7.96l-1.37-1.37c-.4-.4-.92-.59-1.43-.59-.52 0-1.04.2-1.43.59L10.3 9.45l-7.72 7.72c-.78.78-.78 2.05 0 2.83L4 21.41c.39.39.9.59 1.41.59.51 0 1.02-.2 1.41-.59l7.78-7.78 2.81-2.81c.8-.78.8-2.07 0-2.86zM5.41 20L4 18.59l7.72-7.72 1.47 1.35L5.41 20z\"/>\n",
              "  </svg>\n",
              "      </button>\n",
              "      \n",
              "  <style>\n",
              "    .colab-df-container {\n",
              "      display:flex;\n",
              "      flex-wrap:wrap;\n",
              "      gap: 12px;\n",
              "    }\n",
              "\n",
              "    .colab-df-convert {\n",
              "      background-color: #E8F0FE;\n",
              "      border: none;\n",
              "      border-radius: 50%;\n",
              "      cursor: pointer;\n",
              "      display: none;\n",
              "      fill: #1967D2;\n",
              "      height: 32px;\n",
              "      padding: 0 0 0 0;\n",
              "      width: 32px;\n",
              "    }\n",
              "\n",
              "    .colab-df-convert:hover {\n",
              "      background-color: #E2EBFA;\n",
              "      box-shadow: 0px 1px 2px rgba(60, 64, 67, 0.3), 0px 1px 3px 1px rgba(60, 64, 67, 0.15);\n",
              "      fill: #174EA6;\n",
              "    }\n",
              "\n",
              "    [theme=dark] .colab-df-convert {\n",
              "      background-color: #3B4455;\n",
              "      fill: #D2E3FC;\n",
              "    }\n",
              "\n",
              "    [theme=dark] .colab-df-convert:hover {\n",
              "      background-color: #434B5C;\n",
              "      box-shadow: 0px 1px 3px 1px rgba(0, 0, 0, 0.15);\n",
              "      filter: drop-shadow(0px 1px 2px rgba(0, 0, 0, 0.3));\n",
              "      fill: #FFFFFF;\n",
              "    }\n",
              "  </style>\n",
              "\n",
              "      <script>\n",
              "        const buttonEl =\n",
              "          document.querySelector('#df-8d9462bb-1ef9-416f-8667-8a98b6e51c33 button.colab-df-convert');\n",
              "        buttonEl.style.display =\n",
              "          google.colab.kernel.accessAllowed ? 'block' : 'none';\n",
              "\n",
              "        async function convertToInteractive(key) {\n",
              "          const element = document.querySelector('#df-8d9462bb-1ef9-416f-8667-8a98b6e51c33');\n",
              "          const dataTable =\n",
              "            await google.colab.kernel.invokeFunction('convertToInteractive',\n",
              "                                                     [key], {});\n",
              "          if (!dataTable) return;\n",
              "\n",
              "          const docLinkHtml = 'Like what you see? Visit the ' +\n",
              "            '<a target=\"_blank\" href=https://colab.research.google.com/notebooks/data_table.ipynb>data table notebook</a>'\n",
              "            + ' to learn more about interactive tables.';\n",
              "          element.innerHTML = '';\n",
              "          dataTable['output_type'] = 'display_data';\n",
              "          await google.colab.output.renderOutput(dataTable, element);\n",
              "          const docLink = document.createElement('div');\n",
              "          docLink.innerHTML = docLinkHtml;\n",
              "          element.appendChild(docLink);\n",
              "        }\n",
              "      </script>\n",
              "    </div>\n",
              "  </div>\n",
              "  "
            ]
          },
          "metadata": {},
          "execution_count": 1619
        }
      ]
    },
    {
      "cell_type": "code",
      "source": [
        "X = df.drop(\"Salary\",axis=1)\n",
        "y = df[\"Salary\"]"
      ],
      "metadata": {
        "id": "YdvNM3G8diAa"
      },
      "execution_count": 1620,
      "outputs": []
    },
    {
      "cell_type": "code",
      "source": [
        "from sklearn.model_selection import train_test_split\n",
        "X_train, X_test, y_train, y_test = train_test_split(X, y, test_size=0.2, random_state=42)"
      ],
      "metadata": {
        "id": "u8LMAiXNs_WE"
      },
      "execution_count": 1621,
      "outputs": []
    },
    {
      "cell_type": "code",
      "source": [
        "from sklearn.linear_model import LinearRegression\n",
        "linear_reg = LinearRegression()\n",
        "linear_reg.fit(X_train,y_train)\n",
        "linear_reg.coef_"
      ],
      "metadata": {
        "colab": {
          "base_uri": "https://localhost:8080/"
        },
        "id": "tBS8uMkcdh7i",
        "outputId": "c0c98e21-4c46-446c-ddd6-b5cd339d5cb7"
      },
      "execution_count": 1622,
      "outputs": [
        {
          "output_type": "execute_result",
          "data": {
            "text/plain": [
              "array([7388.48334924, 1097.32443292, 2868.5171761 ])"
            ]
          },
          "metadata": {},
          "execution_count": 1622
        }
      ]
    },
    {
      "cell_type": "code",
      "source": [
        "y_pred = linear_reg.predict(X_test)"
      ],
      "metadata": {
        "id": "WIIYxfCqdh5o"
      },
      "execution_count": 1623,
      "outputs": []
    },
    {
      "cell_type": "code",
      "source": [
        "from sklearn.metrics import mean_squared_error, mean_absolute_error\n",
        "import numpy as np\n",
        "error = np.sqrt(mean_squared_error(y_test, y_pred))"
      ],
      "metadata": {
        "id": "bKHfKUnJdhw1"
      },
      "execution_count": 1624,
      "outputs": []
    },
    {
      "cell_type": "code",
      "source": [
        "error"
      ],
      "metadata": {
        "colab": {
          "base_uri": "https://localhost:8080/"
        },
        "id": "mSh_wg6Adhuu",
        "outputId": "b47479a6-82ba-4cf0-a018-3dbd8f7edaf9"
      },
      "execution_count": 1625,
      "outputs": [
        {
          "output_type": "execute_result",
          "data": {
            "text/plain": [
              "25352.14780113473"
            ]
          },
          "metadata": {},
          "execution_count": 1625
        }
      ]
    },
    {
      "cell_type": "code",
      "source": [
        "from sklearn.tree import DecisionTreeRegressor\n",
        "dec_tree_reg = DecisionTreeRegressor(random_state=0)\n",
        "dec_tree_reg.fit(X_train,y_train.values)"
      ],
      "metadata": {
        "colab": {
          "base_uri": "https://localhost:8080/"
        },
        "id": "8irihI9Udhpx",
        "outputId": "681c44b1-6dcb-4b18-c9c1-a423c1058b8e"
      },
      "execution_count": 1626,
      "outputs": [
        {
          "output_type": "execute_result",
          "data": {
            "text/plain": [
              "DecisionTreeRegressor(random_state=0)"
            ]
          },
          "metadata": {},
          "execution_count": 1626
        }
      ]
    },
    {
      "cell_type": "code",
      "source": [
        "y_pred = dec_tree_reg.predict(X_test)"
      ],
      "metadata": {
        "id": "4ErEpINddhkv"
      },
      "execution_count": 1627,
      "outputs": []
    },
    {
      "cell_type": "code",
      "source": [
        "error = np.sqrt(mean_squared_error(y_test,y_pred))\n",
        "error"
      ],
      "metadata": {
        "colab": {
          "base_uri": "https://localhost:8080/"
        },
        "id": "PvycPN4rdhgh",
        "outputId": "9a6a61aa-7b7a-498a-8c6f-7ee27113ab3d"
      },
      "execution_count": 1628,
      "outputs": [
        {
          "output_type": "execute_result",
          "data": {
            "text/plain": [
              "19801.10125004423"
            ]
          },
          "metadata": {},
          "execution_count": 1628
        }
      ]
    },
    {
      "cell_type": "code",
      "source": [
        "from sklearn.ensemble import RandomForestRegressor\n",
        "random_forest_reg = RandomForestRegressor(random_state=42)\n",
        "random_forest_reg.fit(X_train, y_train.values)"
      ],
      "metadata": {
        "colab": {
          "base_uri": "https://localhost:8080/"
        },
        "id": "FxsSCEGtdhb6",
        "outputId": "02cc556d-171e-4285-8089-360a045351c1"
      },
      "execution_count": 1629,
      "outputs": [
        {
          "output_type": "execute_result",
          "data": {
            "text/plain": [
              "RandomForestRegressor(random_state=42)"
            ]
          },
          "metadata": {},
          "execution_count": 1629
        }
      ]
    },
    {
      "cell_type": "code",
      "source": [
        "y_pred = random_forest_reg.predict(X_test)"
      ],
      "metadata": {
        "id": "7zeEtwGNdhU-"
      },
      "execution_count": 1630,
      "outputs": []
    },
    {
      "cell_type": "code",
      "source": [
        "error = np.sqrt(mean_squared_error(y_test,y_pred))\n",
        "error"
      ],
      "metadata": {
        "colab": {
          "base_uri": "https://localhost:8080/"
        },
        "id": "ojypT0aZdhQo",
        "outputId": "22278598-7362-4799-9cd8-b2235334aa4f"
      },
      "execution_count": 1631,
      "outputs": [
        {
          "output_type": "execute_result",
          "data": {
            "text/plain": [
              "19800.446859070737"
            ]
          },
          "metadata": {},
          "execution_count": 1631
        }
      ]
    },
    {
      "cell_type": "code",
      "source": [
        "from sklearn.model_selection import GridSearchCV\n",
        "parameters = {'max_depth': [None,2,4,6,8,10,12]}\n",
        "regressor = DecisionTreeRegressor(random_state=42)\n",
        "gs = GridSearchCV(regressor, parameters, scoring='neg_mean_squared_error')\n",
        "gs.fit(X_train,y_train.values)"
      ],
      "metadata": {
        "colab": {
          "base_uri": "https://localhost:8080/"
        },
        "id": "lwlslJ5ldhKq",
        "outputId": "1df6742e-ed5a-4a0b-c2c8-e1a188805840"
      },
      "execution_count": 1632,
      "outputs": [
        {
          "output_type": "execute_result",
          "data": {
            "text/plain": [
              "GridSearchCV(estimator=DecisionTreeRegressor(random_state=42),\n",
              "             param_grid={'max_depth': [None, 2, 4, 6, 8, 10, 12]},\n",
              "             scoring='neg_mean_squared_error')"
            ]
          },
          "metadata": {},
          "execution_count": 1632
        }
      ]
    },
    {
      "cell_type": "code",
      "source": [
        "regressor = gs.best_estimator_\n",
        "regressor.fit(X_train, y_train.values)\n",
        "y_pred = regressor.predict(X_test)\n",
        "error = np.sqrt(mean_squared_error(y_test,y_pred))\n",
        "error"
      ],
      "metadata": {
        "colab": {
          "base_uri": "https://localhost:8080/"
        },
        "id": "pSUuyrtJdhDp",
        "outputId": "7ee87db2-c248-4ebc-ab59-374c6b419e1b"
      },
      "execution_count": 1633,
      "outputs": [
        {
          "output_type": "execute_result",
          "data": {
            "text/plain": [
              "19801.10125004423"
            ]
          },
          "metadata": {},
          "execution_count": 1633
        }
      ]
    },
    {
      "cell_type": "code",
      "source": [
        "# X = np.array([[\"Canada\", \"Master’s degree\", 15]])\n",
        "# X"
      ],
      "metadata": {
        "id": "2brxjWKBdgyd"
      },
      "execution_count": 1634,
      "outputs": []
    },
    {
      "cell_type": "code",
      "source": [
        "# X[:,0] = le_country.transform(X[:,0])\n",
        "# X[:,1] = le_education.transform(X[:,1])\n",
        "# X = X.astype(float)\n",
        "# X\n"
      ],
      "metadata": {
        "id": "R1AAg4FGdgvc"
      },
      "execution_count": 1635,
      "outputs": []
    },
    {
      "cell_type": "code",
      "source": [
        "y_pred = regressor.predict(X)\n",
        "y_pred"
      ],
      "metadata": {
        "colab": {
          "base_uri": "https://localhost:8080/"
        },
        "id": "XKXb9xhumvP1",
        "outputId": "19cee00b-d2e2-4acb-839e-a83192f9a141"
      },
      "execution_count": 1636,
      "outputs": [
        {
          "output_type": "execute_result",
          "data": {
            "text/plain": [
              "array([66481.47142857, 70087.21212121, 39859.90804598, ...,\n",
              "       49949.65217391, 83218.93506494, 31696.8       ])"
            ]
          },
          "metadata": {},
          "execution_count": 1636
        }
      ]
    },
    {
      "cell_type": "code",
      "source": [
        "import pickle"
      ],
      "metadata": {
        "id": "8WkbY0oinDfj"
      },
      "execution_count": 1637,
      "outputs": []
    },
    {
      "cell_type": "code",
      "source": [
        "data = {\"model\": regressor, \"le_country\":le_country, \"le_education\":le_education}\n",
        "with open('saved_steps.pkl','wb') as file:\n",
        "  pickle.dump(data,file)"
      ],
      "metadata": {
        "id": "7C8QqbpsnPkt"
      },
      "execution_count": 1638,
      "outputs": []
    },
    {
      "cell_type": "code",
      "source": [
        "with open('saved_steps.pkl', 'rb') as file:\n",
        "  data = pickle.load(file)\n",
        "\n",
        "regressor_loaded = data[\"model\"]\n",
        "le_country = data[\"le_country\"]\n",
        "le_education = data[\"le_education\"]"
      ],
      "metadata": {
        "id": "a9-HPiPmndbf"
      },
      "execution_count": 1639,
      "outputs": []
    },
    {
      "cell_type": "code",
      "source": [
        "y_pred = regressor_loaded.predict(X)\n",
        "y_pred"
      ],
      "metadata": {
        "colab": {
          "base_uri": "https://localhost:8080/"
        },
        "id": "_0_HxcWXnzAb",
        "outputId": "428961a3-8012-4388-8dc6-1f068f73180b"
      },
      "execution_count": 1640,
      "outputs": [
        {
          "output_type": "execute_result",
          "data": {
            "text/plain": [
              "array([66481.47142857, 70087.21212121, 39859.90804598, ...,\n",
              "       49949.65217391, 83218.93506494, 31696.8       ])"
            ]
          },
          "metadata": {},
          "execution_count": 1640
        }
      ]
    },
    {
      "cell_type": "markdown",
      "source": [
        "<!-- pip install streamlit, matplotlib, scikit-learn -->"
      ],
      "metadata": {
        "id": "ONkhW1vduEvF"
      }
    }
  ]
}